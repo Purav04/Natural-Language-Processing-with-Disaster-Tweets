{
 "cells": [
  {
   "cell_type": "code",
   "execution_count": 1,
   "id": "pediatric-hughes",
   "metadata": {
    "_cell_guid": "b1076dfc-b9ad-4769-8c92-a6c4dae69d19",
    "_uuid": "8f2839f25d086af736a60e9eeb907d3b93b6e0e5",
    "execution": {
     "iopub.execute_input": "2021-06-23T11:43:03.372705Z",
     "iopub.status.busy": "2021-06-23T11:43:03.370904Z",
     "iopub.status.idle": "2021-06-23T11:43:03.387836Z",
     "shell.execute_reply": "2021-06-23T11:43:03.388562Z",
     "shell.execute_reply.started": "2021-06-23T11:38:01.013970Z"
    },
    "papermill": {
     "duration": 0.053129,
     "end_time": "2021-06-23T11:43:03.388932",
     "exception": false,
     "start_time": "2021-06-23T11:43:03.335803",
     "status": "completed"
    },
    "tags": []
   },
   "outputs": [
    {
     "name": "stdout",
     "output_type": "stream",
     "text": [
      "/kaggle/input/nlp-getting-started/sample_submission.csv\n",
      "/kaggle/input/nlp-getting-started/train.csv\n",
      "/kaggle/input/nlp-getting-started/test.csv\n"
     ]
    }
   ],
   "source": [
    "# This Python 3 environment comes with many helpful analytics libraries installed\n",
    "# It is defined by the kaggle/python Docker image: https://github.com/kaggle/docker-python\n",
    "# For example, here's several helpful packages to load\n",
    "\n",
    "import numpy as np # linear algebra\n",
    "import pandas as pd # data processing, CSV file I/O (e.g. pd.read_csv)\n",
    "import warnings\n",
    "warnings.filterwarnings('ignore')\n",
    "# Input data files are available in the read-only \"../input/\" directory\n",
    "# For example, running this (by clicking run or pressing Shift+Enter) will list all files under the input directory\n",
    "\n",
    "import os\n",
    "for dirname, _, filenames in os.walk('/kaggle/input'):\n",
    "    for filename in filenames:\n",
    "        print(os.path.join(dirname, filename))\n",
    "\n",
    "# You can write up to 20GB to the current directory (/kaggle/working/) that gets preserved as output when you create a version using \"Save & Run All\" \n",
    "# You can also write temporary files to /kaggle/temp/, but they won't be saved outside of the current session"
   ]
  },
  {
   "cell_type": "markdown",
   "id": "conventional-stable",
   "metadata": {
    "papermill": {
     "duration": 0.018261,
     "end_time": "2021-06-23T11:43:03.429532",
     "exception": false,
     "start_time": "2021-06-23T11:43:03.411271",
     "status": "completed"
    },
    "tags": []
   },
   "source": [
    "Import Dataset"
   ]
  },
  {
   "cell_type": "code",
   "execution_count": 2,
   "id": "weighted-wilson",
   "metadata": {
    "execution": {
     "iopub.execute_input": "2021-06-23T11:43:03.472367Z",
     "iopub.status.busy": "2021-06-23T11:43:03.471642Z",
     "iopub.status.idle": "2021-06-23T11:43:03.544986Z",
     "shell.execute_reply": "2021-06-23T11:43:03.544317Z",
     "shell.execute_reply.started": "2021-06-23T11:36:29.529332Z"
    },
    "papermill": {
     "duration": 0.097094,
     "end_time": "2021-06-23T11:43:03.545257",
     "exception": false,
     "start_time": "2021-06-23T11:43:03.448163",
     "status": "completed"
    },
    "tags": []
   },
   "outputs": [],
   "source": [
    "train_data = pd.read_csv(\"/kaggle/input/nlp-getting-started/train.csv\")\n",
    "test_data = pd.read_csv(\"/kaggle/input/nlp-getting-started/test.csv\")"
   ]
  },
  {
   "cell_type": "code",
   "execution_count": 3,
   "id": "funny-tracker",
   "metadata": {
    "execution": {
     "iopub.execute_input": "2021-06-23T11:43:03.617630Z",
     "iopub.status.busy": "2021-06-23T11:43:03.616463Z",
     "iopub.status.idle": "2021-06-23T11:43:03.621449Z",
     "shell.execute_reply": "2021-06-23T11:43:03.622331Z",
     "shell.execute_reply.started": "2021-06-23T11:36:29.613179Z"
    },
    "papermill": {
     "duration": 0.047041,
     "end_time": "2021-06-23T11:43:03.622615",
     "exception": false,
     "start_time": "2021-06-23T11:43:03.575574",
     "status": "completed"
    },
    "tags": []
   },
   "outputs": [
    {
     "data": {
      "text/plain": [
       "(7613,)"
      ]
     },
     "execution_count": 3,
     "metadata": {},
     "output_type": "execute_result"
    }
   ],
   "source": [
    "train_data['text'].shape"
   ]
  },
  {
   "cell_type": "code",
   "execution_count": 4,
   "id": "august-alarm",
   "metadata": {
    "execution": {
     "iopub.execute_input": "2021-06-23T11:43:03.675339Z",
     "iopub.status.busy": "2021-06-23T11:43:03.674121Z",
     "iopub.status.idle": "2021-06-23T11:43:03.683821Z",
     "shell.execute_reply": "2021-06-23T11:43:03.684531Z",
     "shell.execute_reply.started": "2021-06-23T11:36:29.630917Z"
    },
    "papermill": {
     "duration": 0.03799,
     "end_time": "2021-06-23T11:43:03.684757",
     "exception": false,
     "start_time": "2021-06-23T11:43:03.646767",
     "status": "completed"
    },
    "tags": []
   },
   "outputs": [
    {
     "data": {
      "text/plain": [
       "id             0\n",
       "keyword       61\n",
       "location    2533\n",
       "text           0\n",
       "target         0\n",
       "dtype: int64"
      ]
     },
     "execution_count": 4,
     "metadata": {},
     "output_type": "execute_result"
    }
   ],
   "source": [
    "train_data.isnull().sum()"
   ]
  },
  {
   "cell_type": "code",
   "execution_count": 5,
   "id": "statewide-exhaust",
   "metadata": {
    "execution": {
     "iopub.execute_input": "2021-06-23T11:43:03.727650Z",
     "iopub.status.busy": "2021-06-23T11:43:03.726659Z",
     "iopub.status.idle": "2021-06-23T11:43:04.796215Z",
     "shell.execute_reply": "2021-06-23T11:43:04.796694Z",
     "shell.execute_reply.started": "2021-06-23T11:39:07.454512Z"
    },
    "papermill": {
     "duration": 1.092863,
     "end_time": "2021-06-23T11:43:04.796886",
     "exception": false,
     "start_time": "2021-06-23T11:43:03.704023",
     "status": "completed"
    },
    "tags": []
   },
   "outputs": [
    {
     "data": {
      "text/plain": [
       "<AxesSubplot:xlabel='target', ylabel='count'>"
      ]
     },
     "execution_count": 5,
     "metadata": {},
     "output_type": "execute_result"
    },
    {
     "data": {
      "image/png": "[encoded data removed]",
      "text/plain": [
       "<Figure size 432x288 with 1 Axes>"
      ]
     },
     "metadata": {
      "needs_background": "light"
     },
     "output_type": "display_data"
    }
   ],
   "source": [
    "import seaborn as sns\n",
    "\n",
    "sns.countplot(x = train_data['target'])"
   ]
  },
  {
   "cell_type": "code",
   "execution_count": 6,
   "id": "configured-ethernet",
   "metadata": {
    "execution": {
     "iopub.execute_input": "2021-06-23T11:43:04.840452Z",
     "iopub.status.busy": "2021-06-23T11:43:04.839511Z",
     "iopub.status.idle": "2021-06-23T11:43:04.844088Z",
     "shell.execute_reply": "2021-06-23T11:43:04.844694Z",
     "shell.execute_reply.started": "2021-06-23T11:39:51.344655Z"
    },
    "papermill": {
     "duration": 0.028186,
     "end_time": "2021-06-23T11:43:04.844866",
     "exception": false,
     "start_time": "2021-06-23T11:43:04.816680",
     "status": "completed"
    },
    "tags": []
   },
   "outputs": [],
   "source": [
    "X = train_data['text']\n",
    "y = train_data['target']"
   ]
  },
  {
   "cell_type": "markdown",
   "id": "subjective-wallace",
   "metadata": {
    "papermill": {
     "duration": 0.019479,
     "end_time": "2021-06-23T11:43:04.884023",
     "exception": false,
     "start_time": "2021-06-23T11:43:04.864544",
     "status": "completed"
    },
    "tags": []
   },
   "source": [
    "Preprocessing"
   ]
  },
  {
   "cell_type": "code",
   "execution_count": 7,
   "id": "actual-router",
   "metadata": {
    "execution": {
     "iopub.execute_input": "2021-06-23T11:43:04.927155Z",
     "iopub.status.busy": "2021-06-23T11:43:04.926549Z",
     "iopub.status.idle": "2021-06-23T11:43:06.104897Z",
     "shell.execute_reply": "2021-06-23T11:43:06.104231Z",
     "shell.execute_reply.started": "2021-06-23T11:39:54.873620Z"
    },
    "papermill": {
     "duration": 1.201138,
     "end_time": "2021-06-23T11:43:06.105043",
     "exception": false,
     "start_time": "2021-06-23T11:43:04.903905",
     "status": "completed"
    },
    "tags": []
   },
   "outputs": [],
   "source": [
    "from nltk.corpus import stopwords\n",
    "stop_words = stopwords.words('english')\n",
    "\n",
    "def clean_text(text):\n",
    "    text = text.lower()\n",
    "    word = ' '.join(j for j in text.split() if j not in stop_words)\n",
    "    return word\n",
    "\n",
    "X = X.apply(clean_text)"
   ]
  },
  {
   "cell_type": "code",
   "execution_count": 8,
   "id": "caroline-messenger",
   "metadata": {
    "execution": {
     "iopub.execute_input": "2021-06-23T11:43:06.151362Z",
     "iopub.status.busy": "2021-06-23T11:43:06.150705Z",
     "iopub.status.idle": "2021-06-23T11:43:12.504677Z",
     "shell.execute_reply": "2021-06-23T11:43:12.503975Z",
     "shell.execute_reply.started": "2021-06-23T11:39:56.283955Z"
    },
    "papermill": {
     "duration": 6.38002,
     "end_time": "2021-06-23T11:43:12.504823",
     "exception": false,
     "start_time": "2021-06-23T11:43:06.124803",
     "status": "completed"
    },
    "tags": []
   },
   "outputs": [
    {
     "name": "stdout",
     "output_type": "stream",
     "text": [
      "total token: 22666\n",
      "deeds reason #earthquake may allah forgive us\n"
     ]
    }
   ],
   "source": [
    "from tensorflow.keras.preprocessing.text import Tokenizer\n",
    "\n",
    "max_nw = 75000\n",
    "max_sl = 160\n",
    "embedding_dim = 45\n",
    "\n",
    "tokenizer = Tokenizer(num_words=max_nw,\n",
    "                    filters='!\"#$%&()*+,-./:;<=>?@[\\\\]^_`{|}~\\t\\n',\n",
    "                    lower=True )\n",
    "tokenizer.fit_on_texts(X.values)\n",
    "print(\"total token:\",len(tokenizer.word_index))\n",
    "print(X[0])"
   ]
  },
  {
   "cell_type": "code",
   "execution_count": 9,
   "id": "according-tuition",
   "metadata": {
    "execution": {
     "iopub.execute_input": "2021-06-23T11:43:12.585684Z",
     "iopub.status.busy": "2021-06-23T11:43:12.569666Z",
     "iopub.status.idle": "2021-06-23T11:43:12.858776Z",
     "shell.execute_reply": "2021-06-23T11:43:12.859309Z",
     "shell.execute_reply.started": "2021-06-23T11:40:14.174214Z"
    },
    "papermill": {
     "duration": 0.334622,
     "end_time": "2021-06-23T11:43:12.859500",
     "exception": false,
     "start_time": "2021-06-23T11:43:12.524878",
     "status": "completed"
    },
    "tags": []
   },
   "outputs": [
    {
     "name": "stdout",
     "output_type": "stream",
     "text": [
      "shape of tensor: (7613, 160) [   0    0    0    0    0    0    0    0    0    0    0    0    0    0\n",
      "    0    0    0    0    0    0    0    0    0    0    0    0    0    0\n",
      "    0    0    0    0    0    0    0    0    0    0    0    0    0    0\n",
      "    0    0    0    0    0    0    0    0    0    0    0    0    0    0\n",
      "    0    0    0    0    0    0    0    0    0    0    0    0    0    0\n",
      "    0    0    0    0    0    0    0    0    0    0    0    0    0    0\n",
      "    0    0    0    0    0    0    0    0    0    0    0    0    0    0\n",
      "    0    0    0    0    0    0    0    0    0    0    0    0    0    0\n",
      "    0    0    0    0    0    0    0    0    0    0    0    0    0    0\n",
      "    0    0    0    0    0    0    0    0    0    0    0    0    0    0\n",
      "    0    0    0    0    0    0    0    0    0    0    0    0    0 4565\n",
      "  771  175   67 1527 4566   26]\n"
     ]
    }
   ],
   "source": [
    "from tensorflow.keras.preprocessing.sequence import pad_sequences\n",
    "\n",
    "X = tokenizer.texts_to_sequences(X.values)\n",
    "X = pad_sequences(X, maxlen=max_sl)\n",
    "print(\"shape of tensor:\", X.shape,X[0])\n",
    "\n",
    "test_text = tokenizer.texts_to_sequences(test_data['text'])\n",
    "test_text = pad_sequences(test_text, maxlen=max_sl)"
   ]
  },
  {
   "cell_type": "markdown",
   "id": "floating-geology",
   "metadata": {
    "papermill": {
     "duration": 0.019966,
     "end_time": "2021-06-23T11:43:12.899767",
     "exception": false,
     "start_time": "2021-06-23T11:43:12.879801",
     "status": "completed"
    },
    "tags": []
   },
   "source": [
    "one-hot encoding"
   ]
  },
  {
   "cell_type": "code",
   "execution_count": 10,
   "id": "saved-information",
   "metadata": {
    "execution": {
     "iopub.execute_input": "2021-06-23T11:43:12.947401Z",
     "iopub.status.busy": "2021-06-23T11:43:12.946649Z",
     "iopub.status.idle": "2021-06-23T11:43:12.954784Z",
     "shell.execute_reply": "2021-06-23T11:43:12.954153Z",
     "shell.execute_reply.started": "2021-06-23T11:40:18.908638Z"
    },
    "papermill": {
     "duration": 0.03499,
     "end_time": "2021-06-23T11:43:12.954932",
     "exception": false,
     "start_time": "2021-06-23T11:43:12.919942",
     "status": "completed"
    },
    "tags": []
   },
   "outputs": [
    {
     "name": "stdout",
     "output_type": "stream",
     "text": [
      "shape of label tensor: (7613, 2)\n"
     ]
    }
   ],
   "source": [
    "y = pd.get_dummies(y).values\n",
    "print(\"shape of label tensor:\",y.shape)"
   ]
  },
  {
   "cell_type": "markdown",
   "id": "cutting-knife",
   "metadata": {
    "papermill": {
     "duration": 0.0204,
     "end_time": "2021-06-23T11:43:12.996901",
     "exception": false,
     "start_time": "2021-06-23T11:43:12.976501",
     "status": "completed"
    },
    "tags": []
   },
   "source": [
    "divide data into trainning and validation"
   ]
  },
  {
   "cell_type": "code",
   "execution_count": 11,
   "id": "solved-workplace",
   "metadata": {
    "execution": {
     "iopub.execute_input": "2021-06-23T11:43:13.045644Z",
     "iopub.status.busy": "2021-06-23T11:43:13.044973Z",
     "iopub.status.idle": "2021-06-23T11:43:13.056175Z",
     "shell.execute_reply": "2021-06-23T11:43:13.056945Z",
     "shell.execute_reply.started": "2021-06-23T11:40:57.244420Z"
    },
    "papermill": {
     "duration": 0.039574,
     "end_time": "2021-06-23T11:43:13.057228",
     "exception": false,
     "start_time": "2021-06-23T11:43:13.017654",
     "status": "completed"
    },
    "tags": []
   },
   "outputs": [
    {
     "name": "stdout",
     "output_type": "stream",
     "text": [
      "(6471, 160) (6471, 2)\n",
      "(1142, 160) (1142, 2)\n"
     ]
    }
   ],
   "source": [
    "from sklearn.model_selection import train_test_split\n",
    "X_train,X_test,y_train,y_test = train_test_split(X,y,test_size=0.15,random_state=75)\n",
    "print(X_train.shape,y_train.shape)\n",
    "print(X_test.shape,y_test.shape)"
   ]
  },
  {
   "cell_type": "markdown",
   "id": "enormous-synthesis",
   "metadata": {
    "papermill": {
     "duration": 0.022245,
     "end_time": "2021-06-23T11:43:13.102701",
     "exception": false,
     "start_time": "2021-06-23T11:43:13.080456",
     "status": "completed"
    },
    "tags": []
   },
   "source": [
    "try to use f1 at first as metrics in the dataset."
   ]
  },
  {
   "cell_type": "code",
   "execution_count": 12,
   "id": "worldwide-reunion",
   "metadata": {
    "execution": {
     "iopub.execute_input": "2021-06-23T11:43:13.157147Z",
     "iopub.status.busy": "2021-06-23T11:43:13.156406Z",
     "iopub.status.idle": "2021-06-23T11:43:13.223488Z",
     "shell.execute_reply": "2021-06-23T11:43:13.222769Z",
     "shell.execute_reply.started": "2021-06-23T11:41:22.524473Z"
    },
    "papermill": {
     "duration": 0.097993,
     "end_time": "2021-06-23T11:43:13.223661",
     "exception": false,
     "start_time": "2021-06-23T11:43:13.125668",
     "status": "completed"
    },
    "tags": []
   },
   "outputs": [],
   "source": [
    "from keras import backend as K\n",
    "\n",
    "def recall_m(y_true, y_pred):\n",
    "    true_positives = K.sum(K.round(K.clip(y_true * y_pred, 0, 1)))\n",
    "    possible_positives = K.sum(K.round(K.clip(y_true, 0, 1)))\n",
    "    recall = true_positives / (possible_positives + K.epsilon())\n",
    "    return recall\n",
    "\n",
    "def precision_m(y_true, y_pred):\n",
    "    true_positives = K.sum(K.round(K.clip(y_true * y_pred, 0, 1)))\n",
    "    predicted_positives = K.sum(K.round(K.clip(y_pred, 0, 1)))\n",
    "    precision = true_positives / (predicted_positives + K.epsilon())\n",
    "    return precision\n",
    "\n",
    "def f1_m(y_true, y_pred):\n",
    "    precision = precision_m(y_true, y_pred)\n",
    "    recall = recall_m(y_true, y_pred)\n",
    "    return 2*((precision*recall)/(precision+recall+K.epsilon()))"
   ]
  },
  {
   "cell_type": "markdown",
   "id": "available-airfare",
   "metadata": {
    "papermill": {
     "duration": 0.021168,
     "end_time": "2021-06-23T11:43:13.266644",
     "exception": false,
     "start_time": "2021-06-23T11:43:13.245476",
     "status": "completed"
    },
    "tags": []
   },
   "source": [
    "Make model"
   ]
  },
  {
   "cell_type": "code",
   "execution_count": 13,
   "id": "infrared-vinyl",
   "metadata": {
    "execution": {
     "iopub.execute_input": "2021-06-23T11:43:13.318753Z",
     "iopub.status.busy": "2021-06-23T11:43:13.317826Z",
     "iopub.status.idle": "2021-06-23T11:44:03.472099Z",
     "shell.execute_reply": "2021-06-23T11:44:03.471425Z",
     "shell.execute_reply.started": "2021-06-23T11:41:47.814476Z"
    },
    "papermill": {
     "duration": 50.184061,
     "end_time": "2021-06-23T11:44:03.472289",
     "exception": false,
     "start_time": "2021-06-23T11:43:13.288228",
     "status": "completed"
    },
    "tags": []
   },
   "outputs": [
    {
     "name": "stdout",
     "output_type": "stream",
     "text": [
      "40\n",
      "Epoch 1/30\n",
      "162/162 [==============================] - 7s 38ms/step - loss: 0.6863 - accuracy: 0.5692 - val_loss: 0.6805 - val_accuracy: 0.5683\n",
      "Epoch 2/30\n",
      "162/162 [==============================] - 5s 33ms/step - loss: 0.6772 - accuracy: 0.5740 - val_loss: 0.6692 - val_accuracy: 0.5683\n",
      "Epoch 3/30\n",
      "162/162 [==============================] - 5s 33ms/step - loss: 0.6569 - accuracy: 0.5832 - val_loss: 0.6079 - val_accuracy: 0.7005\n",
      "Epoch 4/30\n",
      "162/162 [==============================] - 6s 35ms/step - loss: 0.5698 - accuracy: 0.7498 - val_loss: 0.5228 - val_accuracy: 0.7688\n",
      "Epoch 5/30\n",
      "162/162 [==============================] - 6s 34ms/step - loss: 0.4555 - accuracy: 0.8143 - val_loss: 0.4675 - val_accuracy: 0.8012\n",
      "Epoch 6/30\n",
      "162/162 [==============================] - 5s 31ms/step - loss: 0.3565 - accuracy: 0.8674 - val_loss: 0.4384 - val_accuracy: 0.8100\n",
      "Epoch 7/30\n",
      "162/162 [==============================] - 5s 33ms/step - loss: 0.2907 - accuracy: 0.9037 - val_loss: 0.4294 - val_accuracy: 0.8126\n",
      "Epoch 8/30\n",
      "162/162 [==============================] - 5s 33ms/step - loss: 0.2481 - accuracy: 0.9163 - val_loss: 0.4304 - val_accuracy: 0.8074\n",
      "Epoch 9/30\n",
      "162/162 [==============================] - 5s 32ms/step - loss: 0.2091 - accuracy: 0.9284 - val_loss: 0.4440 - val_accuracy: 0.8117\n"
     ]
    }
   ],
   "source": [
    "from tensorflow.keras.models import Sequential\n",
    "from tensorflow.keras.layers import Dense,LSTM,Embedding,GlobalAveragePooling1D,LeakyReLU\n",
    "from tensorflow.keras.callbacks import EarlyStopping\n",
    "\n",
    "model = Sequential()\n",
    "model.add(Embedding(max_nw,embedding_dim,input_length=X.shape[1]))\n",
    "model.add(GlobalAveragePooling1D())\n",
    "model.add(Dense(20,activation=\"relu\"))\n",
    "model.add(Dense(2,activation='sigmoid'))\n",
    "model.compile(loss=\"binary_crossentropy\", optimizer=\"adam\", metrics=['accuracy'])\n",
    "\n",
    "epochs = 30\n",
    "batch_size = 40\n",
    "print(batch_size)\n",
    "history = model.fit(X_train,y_train,validation_data=(X_test,y_test),\n",
    "                    epochs=epochs,batch_size=batch_size,callbacks=[EarlyStopping(monitor='val_loss', patience=2, min_delta=0.0001)])"
   ]
  },
  {
   "cell_type": "code",
   "execution_count": 14,
   "id": "advanced-opening",
   "metadata": {
    "execution": {
     "iopub.execute_input": "2021-06-23T11:44:03.977565Z",
     "iopub.status.busy": "2021-06-23T11:44:03.976469Z",
     "iopub.status.idle": "2021-06-23T11:44:04.322108Z",
     "shell.execute_reply": "2021-06-23T11:44:04.322611Z",
     "shell.execute_reply.started": "2021-06-23T11:42:28.565096Z"
    },
    "papermill": {
     "duration": 0.604437,
     "end_time": "2021-06-23T11:44:04.322798",
     "exception": false,
     "start_time": "2021-06-23T11:44:03.718361",
     "status": "completed"
    },
    "tags": []
   },
   "outputs": [
    {
     "data": {
      "image/png": "[encoded data removed]",
      "text/plain": [
       "<Figure size 432x288 with 1 Axes>"
      ]
     },
     "metadata": {
      "needs_background": "light"
     },
     "output_type": "display_data"
    },
    {
     "data": {
      "image/png": "[encoded data removed]",
      "text/plain": [
       "<Figure size 432x288 with 1 Axes>"
      ]
     },
     "metadata": {
      "needs_background": "light"
     },
     "output_type": "display_data"
    }
   ],
   "source": [
    "import matplotlib.pyplot as plt\n",
    "\n",
    "def plot_graphs(history, string):\n",
    "  plt.plot(history.history[string])\n",
    "  plt.plot(history.history['val_'+string])\n",
    "  plt.xlabel(\"Epochs\")\n",
    "  plt.ylabel(string)\n",
    "  plt.legend([string, 'val_'+string])\n",
    "  plt.show()\n",
    "  \n",
    "plot_graphs(history, \"accuracy\")\n",
    "plot_graphs(history, \"loss\")"
   ]
  },
  {
   "cell_type": "code",
   "execution_count": 15,
   "id": "emerging-stupid",
   "metadata": {
    "execution": {
     "iopub.execute_input": "2021-06-23T11:44:04.822378Z",
     "iopub.status.busy": "2021-06-23T11:44:04.821434Z",
     "iopub.status.idle": "2021-06-23T11:44:05.067135Z",
     "shell.execute_reply": "2021-06-23T11:44:05.066148Z",
     "shell.execute_reply.started": "2021-06-23T11:42:37.397983Z"
    },
    "papermill": {
     "duration": 0.502058,
     "end_time": "2021-06-23T11:44:05.067317",
     "exception": false,
     "start_time": "2021-06-23T11:44:04.565259",
     "status": "completed"
    },
    "tags": []
   },
   "outputs": [],
   "source": [
    "test_pred  = model.predict(test_text)\n",
    "\n",
    "prediction = []\n",
    "for i in range(len(test_pred)):\n",
    "    if test_pred[i][0] > 0.5:\n",
    "        prediction.append(0)\n",
    "    else:\n",
    "        prediction.append(1)"
   ]
  },
  {
   "cell_type": "code",
   "execution_count": 16,
   "id": "competitive-authority",
   "metadata": {
    "execution": {
     "iopub.execute_input": "2021-06-23T11:44:05.557094Z",
     "iopub.status.busy": "2021-06-23T11:44:05.556178Z",
     "iopub.status.idle": "2021-06-23T11:44:05.562806Z",
     "shell.execute_reply": "2021-06-23T11:44:05.563258Z",
     "shell.execute_reply.started": "2021-06-23T11:42:37.597081Z"
    },
    "papermill": {
     "duration": 0.253204,
     "end_time": "2021-06-23T11:44:05.563437",
     "exception": false,
     "start_time": "2021-06-23T11:44:05.310233",
     "status": "completed"
    },
    "tags": []
   },
   "outputs": [],
   "source": [
    "my_submission = pd.DataFrame({'id': test_data.id, 'target': prediction})"
   ]
  },
  {
   "cell_type": "code",
   "execution_count": 17,
   "id": "overall-income",
   "metadata": {
    "execution": {
     "iopub.execute_input": "2021-06-23T11:44:06.055357Z",
     "iopub.status.busy": "2021-06-23T11:44:06.054406Z",
     "iopub.status.idle": "2021-06-23T11:44:06.070509Z",
     "shell.execute_reply": "2021-06-23T11:44:06.069956Z",
     "shell.execute_reply.started": "2021-06-23T11:42:37.836455Z"
    },
    "papermill": {
     "duration": 0.265082,
     "end_time": "2021-06-23T11:44:06.070659",
     "exception": false,
     "start_time": "2021-06-23T11:44:05.805577",
     "status": "completed"
    },
    "tags": []
   },
   "outputs": [],
   "source": [
    "my_submission.to_csv('submission.csv', index=False)"
   ]
  },
  {
   "cell_type": "code",
   "execution_count": null,
   "id": "australian-settlement",
   "metadata": {
    "papermill": {
     "duration": 0.243826,
     "end_time": "2021-06-23T11:44:06.558977",
     "exception": false,
     "start_time": "2021-06-23T11:44:06.315151",
     "status": "completed"
    },
    "tags": []
   },
   "outputs": [],
   "source": []
  }
 ],
 "metadata": {
  "kernelspec": {
   "display_name": "Python 3",
   "language": "python",
   "name": "python3"
  },
  "language_info": {
   "codemirror_mode": {
    "name": "ipython",
    "version": 3
   },
   "file_extension": ".py",
   "mimetype": "text/x-python",
   "name": "python",
   "nbconvert_exporter": "python",
   "pygments_lexer": "ipython3",
   "version": "3.7.10"
  },
  "papermill": {
   "default_parameters": {},
   "duration": 74.023263,
   "end_time": "2021-06-23T11:44:08.619966",
   "environment_variables": {},
   "exception": null,
   "input_path": "__notebook__.ipynb",
   "output_path": "__notebook__.ipynb",
   "parameters": {},
   "start_time": "2021-06-23T11:42:54.596703",
   "version": "2.3.3"
  }
 },
 "nbformat": 4,
 "nbformat_minor": 5
}
