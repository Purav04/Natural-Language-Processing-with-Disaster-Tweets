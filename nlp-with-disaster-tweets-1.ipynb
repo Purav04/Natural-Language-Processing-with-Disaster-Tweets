{
 "cells": [
  {
   "cell_type": "code",
   "execution_count": 1,
   "id": "charged-blade",
   "metadata": {
    "_cell_guid": "b1076dfc-b9ad-4769-8c92-a6c4dae69d19",
    "_uuid": "8f2839f25d086af736a60e9eeb907d3b93b6e0e5",
    "execution": {
     "iopub.execute_input": "2021-06-17T09:05:58.639579Z",
     "iopub.status.busy": "2021-06-17T09:05:58.638232Z",
     "iopub.status.idle": "2021-06-17T09:06:00.353349Z",
     "shell.execute_reply": "2021-06-17T09:06:00.351986Z",
     "shell.execute_reply.started": "2021-06-17T08:48:31.783089Z"
    },
    "papermill": {
     "duration": 1.745851,
     "end_time": "2021-06-17T09:06:00.353596",
     "exception": false,
     "start_time": "2021-06-17T09:05:58.607745",
     "status": "completed"
    },
    "tags": []
   },
   "outputs": [
    {
     "name": "stdout",
     "output_type": "stream",
     "text": [
      "/kaggle/input/nlp-getting-started/sample_submission.csv\n",
      "/kaggle/input/nlp-getting-started/train.csv\n",
      "/kaggle/input/nlp-getting-started/test.csv\n"
     ]
    }
   ],
   "source": [
    "# This Python 3 environment comes with many helpful analytics libraries installed\n",
    "# It is defined by the kaggle/python Docker image: https://github.com/kaggle/docker-python\n",
    "# For example, here's several helpful packages to load\n",
    "\n",
    "import numpy as np # linear algebra\n",
    "import pandas as pd # data processing, CSV file I/O (e.g. pd.read_csv)\n",
    "import sklearn\n",
    "import nltk\n",
    "# Input data files are available in the read-only \"../input/\" directory\n",
    "# For example, running this (by clicking run or pressing Shift+Enter) will list all files under the input directory\n",
    "\n",
    "import os\n",
    "for dirname, _, filenames in os.walk('/kaggle/input'):\n",
    "    for filename in filenames:\n",
    "        print(os.path.join(dirname, filename))\n",
    "\n",
    "# You can write up to 20GB to the current directory (/kaggle/working/) that gets preserved as output when you create a version using \"Save & Run All\" \n",
    "# You can also write temporary files to /kaggle/temp/, but they won't be saved outside of the current session"
   ]
  },
  {
   "cell_type": "code",
   "execution_count": 2,
   "id": "japanese-killer",
   "metadata": {
    "execution": {
     "iopub.execute_input": "2021-06-17T09:06:00.410349Z",
     "iopub.status.busy": "2021-06-17T09:06:00.409647Z",
     "iopub.status.idle": "2021-06-17T09:06:00.480388Z",
     "shell.execute_reply": "2021-06-17T09:06:00.479748Z",
     "shell.execute_reply.started": "2021-06-17T08:48:32.3303Z"
    },
    "papermill": {
     "duration": 0.100891,
     "end_time": "2021-06-17T09:06:00.480571",
     "exception": false,
     "start_time": "2021-06-17T09:06:00.379680",
     "status": "completed"
    },
    "tags": []
   },
   "outputs": [],
   "source": [
    "train_data = pd.read_csv(\"/kaggle/input/nlp-getting-started/train.csv\")\n",
    "test_data = pd.read_csv(\"/kaggle/input/nlp-getting-started/test.csv\")"
   ]
  },
  {
   "cell_type": "code",
   "execution_count": 3,
   "id": "asian-isolation",
   "metadata": {
    "execution": {
     "iopub.execute_input": "2021-06-17T09:06:00.550055Z",
     "iopub.status.busy": "2021-06-17T09:06:00.545013Z",
     "iopub.status.idle": "2021-06-17T09:06:00.554478Z",
     "shell.execute_reply": "2021-06-17T09:06:00.553982Z",
     "shell.execute_reply.started": "2021-06-17T08:48:32.378728Z"
    },
    "papermill": {
     "duration": 0.04821,
     "end_time": "2021-06-17T09:06:00.554649",
     "exception": false,
     "start_time": "2021-06-17T09:06:00.506439",
     "status": "completed"
    },
    "tags": []
   },
   "outputs": [
    {
     "data": {
      "text/plain": [
       "0    4342\n",
       "1    3271\n",
       "Name: target, dtype: int64"
      ]
     },
     "execution_count": 3,
     "metadata": {},
     "output_type": "execute_result"
    }
   ],
   "source": [
    "train_data['target'].value_counts()"
   ]
  },
  {
   "cell_type": "code",
   "execution_count": 4,
   "id": "rapid-inspiration",
   "metadata": {
    "execution": {
     "iopub.execute_input": "2021-06-17T09:06:00.611185Z",
     "iopub.status.busy": "2021-06-17T09:06:00.610363Z",
     "iopub.status.idle": "2021-06-17T09:06:00.627695Z",
     "shell.execute_reply": "2021-06-17T09:06:00.628172Z",
     "shell.execute_reply.started": "2021-06-17T08:48:32.707806Z"
    },
    "papermill": {
     "duration": 0.048156,
     "end_time": "2021-06-17T09:06:00.628348",
     "exception": false,
     "start_time": "2021-06-17T09:06:00.580192",
     "status": "completed"
    },
    "tags": []
   },
   "outputs": [
    {
     "data": {
      "text/html": [
       "<div>\n",
       "<style scoped>\n",
       "    .dataframe tbody tr th:only-of-type {\n",
       "        vertical-align: middle;\n",
       "    }\n",
       "\n",
       "    .dataframe tbody tr th {\n",
       "        vertical-align: top;\n",
       "    }\n",
       "\n",
       "    .dataframe thead th {\n",
       "        text-align: right;\n",
       "    }\n",
       "</style>\n",
       "<table border=\"1\" class=\"dataframe\">\n",
       "  <thead>\n",
       "    <tr style=\"text-align: right;\">\n",
       "      <th></th>\n",
       "      <th>id</th>\n",
       "      <th>keyword</th>\n",
       "      <th>location</th>\n",
       "      <th>text</th>\n",
       "      <th>target</th>\n",
       "    </tr>\n",
       "  </thead>\n",
       "  <tbody>\n",
       "    <tr>\n",
       "      <th>0</th>\n",
       "      <td>1</td>\n",
       "      <td>NaN</td>\n",
       "      <td>NaN</td>\n",
       "      <td>Our Deeds are the Reason of this #earthquake M...</td>\n",
       "      <td>1</td>\n",
       "    </tr>\n",
       "    <tr>\n",
       "      <th>1</th>\n",
       "      <td>4</td>\n",
       "      <td>NaN</td>\n",
       "      <td>NaN</td>\n",
       "      <td>Forest fire near La Ronge Sask. Canada</td>\n",
       "      <td>1</td>\n",
       "    </tr>\n",
       "    <tr>\n",
       "      <th>2</th>\n",
       "      <td>5</td>\n",
       "      <td>NaN</td>\n",
       "      <td>NaN</td>\n",
       "      <td>All residents asked to 'shelter in place' are ...</td>\n",
       "      <td>1</td>\n",
       "    </tr>\n",
       "    <tr>\n",
       "      <th>3</th>\n",
       "      <td>6</td>\n",
       "      <td>NaN</td>\n",
       "      <td>NaN</td>\n",
       "      <td>13,000 people receive #wildfires evacuation or...</td>\n",
       "      <td>1</td>\n",
       "    </tr>\n",
       "    <tr>\n",
       "      <th>4</th>\n",
       "      <td>7</td>\n",
       "      <td>NaN</td>\n",
       "      <td>NaN</td>\n",
       "      <td>Just got sent this photo from Ruby #Alaska as ...</td>\n",
       "      <td>1</td>\n",
       "    </tr>\n",
       "  </tbody>\n",
       "</table>\n",
       "</div>"
      ],
      "text/plain": [
       "   id keyword location                                               text  \\\n",
       "0   1     NaN      NaN  Our Deeds are the Reason of this #earthquake M...   \n",
       "1   4     NaN      NaN             Forest fire near La Ronge Sask. Canada   \n",
       "2   5     NaN      NaN  All residents asked to 'shelter in place' are ...   \n",
       "3   6     NaN      NaN  13,000 people receive #wildfires evacuation or...   \n",
       "4   7     NaN      NaN  Just got sent this photo from Ruby #Alaska as ...   \n",
       "\n",
       "   target  \n",
       "0       1  \n",
       "1       1  \n",
       "2       1  \n",
       "3       1  \n",
       "4       1  "
      ]
     },
     "execution_count": 4,
     "metadata": {},
     "output_type": "execute_result"
    }
   ],
   "source": [
    "train_data.head()"
   ]
  },
  {
   "cell_type": "code",
   "execution_count": 5,
   "id": "actual-howard",
   "metadata": {
    "execution": {
     "iopub.execute_input": "2021-06-17T09:06:00.684625Z",
     "iopub.status.busy": "2021-06-17T09:06:00.683655Z",
     "iopub.status.idle": "2021-06-17T09:06:00.693839Z",
     "shell.execute_reply": "2021-06-17T09:06:00.694396Z",
     "shell.execute_reply.started": "2021-06-17T08:48:33.042855Z"
    },
    "papermill": {
     "duration": 0.039856,
     "end_time": "2021-06-17T09:06:00.694586",
     "exception": false,
     "start_time": "2021-06-17T09:06:00.654730",
     "status": "completed"
    },
    "tags": []
   },
   "outputs": [
    {
     "data": {
      "text/plain": [
       "id             0\n",
       "keyword       61\n",
       "location    2533\n",
       "text           0\n",
       "target         0\n",
       "dtype: int64"
      ]
     },
     "execution_count": 5,
     "metadata": {},
     "output_type": "execute_result"
    }
   ],
   "source": [
    "train_data.isnull().sum()"
   ]
  },
  {
   "cell_type": "code",
   "execution_count": 6,
   "id": "assumed-devices",
   "metadata": {
    "execution": {
     "iopub.execute_input": "2021-06-17T09:06:00.751538Z",
     "iopub.status.busy": "2021-06-17T09:06:00.750546Z",
     "iopub.status.idle": "2021-06-17T09:06:00.754980Z",
     "shell.execute_reply": "2021-06-17T09:06:00.755568Z",
     "shell.execute_reply.started": "2021-06-17T08:48:33.36292Z"
    },
    "papermill": {
     "duration": 0.034305,
     "end_time": "2021-06-17T09:06:00.755739",
     "exception": false,
     "start_time": "2021-06-17T09:06:00.721434",
     "status": "completed"
    },
    "tags": []
   },
   "outputs": [],
   "source": [
    "X = train_data['text']\n",
    "y = train_data['target']"
   ]
  },
  {
   "cell_type": "code",
   "execution_count": 7,
   "id": "hundred-constant",
   "metadata": {
    "execution": {
     "iopub.execute_input": "2021-06-17T09:06:00.812604Z",
     "iopub.status.busy": "2021-06-17T09:06:00.811643Z",
     "iopub.status.idle": "2021-06-17T09:06:03.339271Z",
     "shell.execute_reply": "2021-06-17T09:06:03.338733Z",
     "shell.execute_reply.started": "2021-06-17T08:48:33.823358Z"
    },
    "papermill": {
     "duration": 2.557472,
     "end_time": "2021-06-17T09:06:03.339420",
     "exception": false,
     "start_time": "2021-06-17T09:06:00.781948",
     "status": "completed"
    },
    "tags": []
   },
   "outputs": [],
   "source": [
    "from nltk.corpus import stopwords\n",
    "from nltk.stem.porter import PorterStemmer\n",
    "\n",
    "stop_words = stopwords.words('english')\n",
    "stemmer = PorterStemmer()\n",
    "\n",
    "X_prepro = []\n",
    "\n",
    "for i in train_data['text']:\n",
    "    i = i.split(\" \")\n",
    "    word = [stemmer.stem(j) for j in i if j not in stop_words]\n",
    "    w = \" \".join(word)\n",
    "    X_prepro.append(w)"
   ]
  },
  {
   "cell_type": "code",
   "execution_count": 8,
   "id": "reflected-homeless",
   "metadata": {
    "execution": {
     "iopub.execute_input": "2021-06-17T09:06:03.412676Z",
     "iopub.status.busy": "2021-06-17T09:06:03.411994Z",
     "iopub.status.idle": "2021-06-17T09:06:03.822459Z",
     "shell.execute_reply": "2021-06-17T09:06:03.821803Z",
     "shell.execute_reply.started": "2021-06-17T08:48:36.355146Z"
    },
    "papermill": {
     "duration": 0.455398,
     "end_time": "2021-06-17T09:06:03.822624",
     "exception": false,
     "start_time": "2021-06-17T09:06:03.367226",
     "status": "completed"
    },
    "tags": []
   },
   "outputs": [],
   "source": [
    "from sklearn.feature_extraction.text import CountVectorizer\n",
    "\n",
    "vectores = CountVectorizer(max_features=50000,min_df=2)\n",
    "X = vectores.fit_transform(X_prepro).toarray()"
   ]
  },
  {
   "cell_type": "code",
   "execution_count": 9,
   "id": "median-sensitivity",
   "metadata": {
    "execution": {
     "iopub.execute_input": "2021-06-17T09:06:03.881638Z",
     "iopub.status.busy": "2021-06-17T09:06:03.880974Z",
     "iopub.status.idle": "2021-06-17T09:06:04.071795Z",
     "shell.execute_reply": "2021-06-17T09:06:04.071179Z",
     "shell.execute_reply.started": "2021-06-17T08:48:36.762304Z"
    },
    "papermill": {
     "duration": 0.222694,
     "end_time": "2021-06-17T09:06:04.071940",
     "exception": false,
     "start_time": "2021-06-17T09:06:03.849246",
     "status": "completed"
    },
    "tags": []
   },
   "outputs": [],
   "source": [
    "from sklearn.model_selection import train_test_split\n",
    "\n",
    "X_train, X_test, y_train, y_test = train_test_split(X,y,test_size=0.2,random_state=1)"
   ]
  },
  {
   "cell_type": "code",
   "execution_count": 10,
   "id": "express-doctrine",
   "metadata": {
    "execution": {
     "iopub.execute_input": "2021-06-17T09:06:04.130379Z",
     "iopub.status.busy": "2021-06-17T09:06:04.129726Z",
     "iopub.status.idle": "2021-06-17T09:06:04.133627Z",
     "shell.execute_reply": "2021-06-17T09:06:04.132966Z",
     "shell.execute_reply.started": "2021-06-17T08:48:36.942999Z"
    },
    "papermill": {
     "duration": 0.035077,
     "end_time": "2021-06-17T09:06:04.133794",
     "exception": false,
     "start_time": "2021-06-17T09:06:04.098717",
     "status": "completed"
    },
    "tags": []
   },
   "outputs": [
    {
     "data": {
      "text/plain": [
       "array([0, 0, 0, ..., 0, 0, 0])"
      ]
     },
     "execution_count": 10,
     "metadata": {},
     "output_type": "execute_result"
    }
   ],
   "source": [
    "X_train[0]"
   ]
  },
  {
   "cell_type": "markdown",
   "id": "deadly-enforcement",
   "metadata": {
    "papermill": {
     "duration": 0.026323,
     "end_time": "2021-06-17T09:06:04.186951",
     "exception": false,
     "start_time": "2021-06-17T09:06:04.160628",
     "status": "completed"
    },
    "tags": []
   },
   "source": [
    "# Building Models"
   ]
  },
  {
   "cell_type": "code",
   "execution_count": 11,
   "id": "quantitative-ghana",
   "metadata": {
    "execution": {
     "iopub.execute_input": "2021-06-17T09:06:04.243381Z",
     "iopub.status.busy": "2021-06-17T09:06:04.242750Z",
     "iopub.status.idle": "2021-06-17T09:06:04.246346Z",
     "shell.execute_reply": "2021-06-17T09:06:04.246846Z",
     "shell.execute_reply.started": "2021-06-17T08:48:37.258143Z"
    },
    "papermill": {
     "duration": 0.033414,
     "end_time": "2021-06-17T09:06:04.247029",
     "exception": false,
     "start_time": "2021-06-17T09:06:04.213615",
     "status": "completed"
    },
    "tags": []
   },
   "outputs": [],
   "source": [
    "from sklearn.metrics import classification_report, confusion_matrix, accuracy_score\n",
    "from sklearn.model_selection import GridSearchCV, RepeatedKFold"
   ]
  },
  {
   "cell_type": "markdown",
   "id": "related-cancellation",
   "metadata": {
    "papermill": {
     "duration": 0.026293,
     "end_time": "2021-06-17T09:06:04.300208",
     "exception": false,
     "start_time": "2021-06-17T09:06:04.273915",
     "status": "completed"
    },
    "tags": []
   },
   "source": [
    "SVC"
   ]
  },
  {
   "cell_type": "code",
   "execution_count": 12,
   "id": "junior-front",
   "metadata": {
    "execution": {
     "iopub.execute_input": "2021-06-17T09:06:04.357303Z",
     "iopub.status.busy": "2021-06-17T09:06:04.356669Z",
     "iopub.status.idle": "2021-06-17T09:09:12.420131Z",
     "shell.execute_reply": "2021-06-17T09:09:12.420639Z",
     "shell.execute_reply.started": "2021-06-17T08:48:38.75294Z"
    },
    "papermill": {
     "duration": 188.093283,
     "end_time": "2021-06-17T09:09:12.420828",
     "exception": false,
     "start_time": "2021-06-17T09:06:04.327545",
     "status": "completed"
    },
    "tags": []
   },
   "outputs": [
    {
     "name": "stdout",
     "output_type": "stream",
     "text": [
      "[[819 227]\n",
      " [ 63 414]]\n",
      "              precision    recall  f1-score   support\n",
      "\n",
      "           0       0.93      0.78      0.85      1046\n",
      "           1       0.65      0.87      0.74       477\n",
      "\n",
      "    accuracy                           0.81      1523\n",
      "   macro avg       0.79      0.83      0.80      1523\n",
      "weighted avg       0.84      0.81      0.82      1523\n",
      "\n",
      "0.8095863427445831\n"
     ]
    }
   ],
   "source": [
    "from sklearn.svm import SVC\n",
    "\n",
    "sv_model = SVC()\n",
    "sv_model.fit(X_train,y_train)\n",
    "sv_pred = sv_model.predict(X_test)\n",
    "print(confusion_matrix(sv_pred,y_test))\n",
    "print(classification_report(sv_pred,y_test))\n",
    "print(accuracy_score(sv_pred,y_test))"
   ]
  },
  {
   "cell_type": "markdown",
   "id": "ruled-brazil",
   "metadata": {
    "papermill": {
     "duration": 0.027216,
     "end_time": "2021-06-17T09:09:12.475125",
     "exception": false,
     "start_time": "2021-06-17T09:09:12.447909",
     "status": "completed"
    },
    "tags": []
   },
   "source": [
    "Randomforest classifier"
   ]
  },
  {
   "cell_type": "code",
   "execution_count": 13,
   "id": "meaning-estonia",
   "metadata": {
    "execution": {
     "iopub.execute_input": "2021-06-17T09:09:12.535326Z",
     "iopub.status.busy": "2021-06-17T09:09:12.534574Z",
     "iopub.status.idle": "2021-06-17T09:09:49.128589Z",
     "shell.execute_reply": "2021-06-17T09:09:49.129106Z",
     "shell.execute_reply.started": "2021-06-17T08:51:44.598952Z"
    },
    "papermill": {
     "duration": 36.627115,
     "end_time": "2021-06-17T09:09:49.129270",
     "exception": false,
     "start_time": "2021-06-17T09:09:12.502155",
     "status": "completed"
    },
    "tags": []
   },
   "outputs": [
    {
     "name": "stdout",
     "output_type": "stream",
     "text": [
      "[[806 246]\n",
      " [ 76 395]]\n",
      "              precision    recall  f1-score   support\n",
      "\n",
      "           0       0.91      0.77      0.83      1052\n",
      "           1       0.62      0.84      0.71       471\n",
      "\n",
      "    accuracy                           0.79      1523\n",
      "   macro avg       0.77      0.80      0.77      1523\n",
      "weighted avg       0.82      0.79      0.80      1523\n",
      "\n",
      "0.788575180564675\n"
     ]
    }
   ],
   "source": [
    "from sklearn.ensemble import RandomForestClassifier\n",
    "\n",
    "rf_model = RandomForestClassifier()\n",
    "rf_model.fit(X_train,y_train)\n",
    "rf_pred = rf_model.predict(X_test)\n",
    "print(confusion_matrix(rf_pred,y_test))\n",
    "print(classification_report(rf_pred,y_test))\n",
    "print(accuracy_score(rf_pred,y_test))"
   ]
  },
  {
   "cell_type": "code",
   "execution_count": 14,
   "id": "furnished-liability",
   "metadata": {
    "execution": {
     "iopub.execute_input": "2021-06-17T09:09:49.188991Z",
     "iopub.status.busy": "2021-06-17T09:09:49.188275Z",
     "iopub.status.idle": "2021-06-17T09:09:49.191441Z",
     "shell.execute_reply": "2021-06-17T09:09:49.190867Z"
    },
    "papermill": {
     "duration": 0.035012,
     "end_time": "2021-06-17T09:09:49.191643",
     "exception": false,
     "start_time": "2021-06-17T09:09:49.156631",
     "status": "completed"
    },
    "tags": []
   },
   "outputs": [],
   "source": [
    "# cv = RepeatedKFold(n_splits=10,n_repeats=3,random_state=1)\n",
    "# rf_model = RandomForestClassifier()\n",
    "\n",
    "\n",
    "# parameters = {'n_estimators': [15,25,30,35],\n",
    "#               'criterion': ['gini','entropy'],\n",
    "#                'max_features': [2,3,'auto'],\n",
    "#                'max_depth': [2,4,6,None],\n",
    "#                'min_samples_split': [2,5,7,10,12]}\n",
    "\n",
    "# grid = GridSearchCV(rf_model,parameters,scoring='f1',cv=5)\n",
    "# result = grid.fit(X_train,y_train)\n",
    "# print(\"best_score:\",result.best_score_)\n",
    "# print(\"best_params:\",result.best_params_)"
   ]
  },
  {
   "cell_type": "markdown",
   "id": "bulgarian-annex",
   "metadata": {
    "papermill": {
     "duration": 0.027845,
     "end_time": "2021-06-17T09:09:49.247460",
     "exception": false,
     "start_time": "2021-06-17T09:09:49.219615",
     "status": "completed"
    },
    "tags": []
   },
   "source": [
    "XGBoost"
   ]
  },
  {
   "cell_type": "code",
   "execution_count": 15,
   "id": "found-platform",
   "metadata": {
    "execution": {
     "iopub.execute_input": "2021-06-17T09:09:49.308802Z",
     "iopub.status.busy": "2021-06-17T09:09:49.308038Z",
     "iopub.status.idle": "2021-06-17T09:10:41.076839Z",
     "shell.execute_reply": "2021-06-17T09:10:41.077341Z",
     "shell.execute_reply.started": "2021-06-17T08:52:18.310108Z"
    },
    "papermill": {
     "duration": 51.802272,
     "end_time": "2021-06-17T09:10:41.077535",
     "exception": false,
     "start_time": "2021-06-17T09:09:49.275263",
     "status": "completed"
    },
    "tags": []
   },
   "outputs": [
    {
     "name": "stderr",
     "output_type": "stream",
     "text": [
      "/opt/conda/lib/python3.7/site-packages/xgboost/sklearn.py:1146: UserWarning: The use of label encoder in XGBClassifier is deprecated and will be removed in a future release. To remove this warning, do the following: 1) Pass option use_label_encoder=False when constructing XGBClassifier object; and 2) Encode your labels (y) as integers starting with 0, i.e. 0, 1, 2, ..., [num_class - 1].\n",
      "  warnings.warn(label_encoder_deprecation_msg, UserWarning)\n"
     ]
    },
    {
     "name": "stdout",
     "output_type": "stream",
     "text": [
      "[09:09:50] WARNING: ../src/learner.cc:1095: Starting in XGBoost 1.3.0, the default evaluation metric used with the objective 'binary:logistic' was changed from 'error' to 'logloss'. Explicitly set eval_metric if you'd like to restore the old behavior.\n",
      "[[792 231]\n",
      " [ 90 410]]\n",
      "              precision    recall  f1-score   support\n",
      "\n",
      "           0       0.90      0.77      0.83      1023\n",
      "           1       0.64      0.82      0.72       500\n",
      "\n",
      "    accuracy                           0.79      1523\n",
      "   macro avg       0.77      0.80      0.78      1523\n",
      "weighted avg       0.81      0.79      0.79      1523\n",
      "\n",
      "0.7892317793827971\n"
     ]
    }
   ],
   "source": [
    "from xgboost import XGBClassifier\n",
    "\n",
    "\n",
    "xgb_model = XGBClassifier()\n",
    "xgb_model.fit(X_train,y_train)\n",
    "xgb_pred = xgb_model.predict(X_test)\n",
    "print(confusion_matrix(xgb_pred,y_test))\n",
    "print(classification_report(xgb_pred,y_test))\n",
    "print(accuracy_score(xgb_pred,y_test))"
   ]
  },
  {
   "cell_type": "code",
   "execution_count": 16,
   "id": "weighted-bobby",
   "metadata": {
    "_kg_hide-output": true,
    "execution": {
     "iopub.execute_input": "2021-06-17T09:10:41.137948Z",
     "iopub.status.busy": "2021-06-17T09:10:41.136931Z",
     "iopub.status.idle": "2021-06-17T09:10:41.141645Z",
     "shell.execute_reply": "2021-06-17T09:10:41.142180Z"
    },
    "papermill": {
     "duration": 0.036659,
     "end_time": "2021-06-17T09:10:41.142358",
     "exception": false,
     "start_time": "2021-06-17T09:10:41.105699",
     "status": "completed"
    },
    "tags": []
   },
   "outputs": [],
   "source": [
    "# xgb_model = XGBClassifier()\n",
    "# parameters = {'max_depth':range(3,10,2),\n",
    "#              'min_child_weight':range(1,6,2),\n",
    "#              'gamma':[i/10.0 for i in range(0,5)],\n",
    "#              'subsample':[i/10.0 for i in range(6,10)],\n",
    "#              'colsample_bytree':[i/10.0 for i in range(6,10)],\n",
    "#              'reg_alpha':[1e-5, 1e-2, 0.1, 1, 0.001, 0.005, 0.01, 0.05]}\n",
    "\n",
    "# grid = GridSearchCV(xgb_model,parameters,scoring='f1',cv=5)\n",
    "# result = grid.fit(X_train,y_train)\n",
    "# print(\"best_score:\",result.best_score_)\n",
    "# print(\"best_params:\",result.best_params_)"
   ]
  },
  {
   "cell_type": "markdown",
   "id": "informal-springer",
   "metadata": {
    "papermill": {
     "duration": 0.028002,
     "end_time": "2021-06-17T09:10:41.198888",
     "exception": false,
     "start_time": "2021-06-17T09:10:41.170886",
     "status": "completed"
    },
    "tags": []
   },
   "source": [
    "LightGBM"
   ]
  },
  {
   "cell_type": "code",
   "execution_count": 17,
   "id": "still-evans",
   "metadata": {
    "execution": {
     "iopub.execute_input": "2021-06-17T09:10:41.261655Z",
     "iopub.status.busy": "2021-06-17T09:10:41.260932Z",
     "iopub.status.idle": "2021-06-17T09:10:42.853725Z",
     "shell.execute_reply": "2021-06-17T09:10:42.854327Z",
     "shell.execute_reply.started": "2021-06-17T08:53:09.196056Z"
    },
    "papermill": {
     "duration": 1.627257,
     "end_time": "2021-06-17T09:10:42.854540",
     "exception": false,
     "start_time": "2021-06-17T09:10:41.227283",
     "status": "completed"
    },
    "tags": []
   },
   "outputs": [
    {
     "data": {
      "text/html": [
       "<style type='text/css'>\n",
       ".datatable table.frame { margin-bottom: 0; }\n",
       ".datatable table.frame thead { border-bottom: none; }\n",
       ".datatable table.frame tr.coltypes td {  color: #FFFFFF;  line-height: 6px;  padding: 0 0.5em;}\n",
       ".datatable .bool    { background: #DDDD99; }\n",
       ".datatable .object  { background: #565656; }\n",
       ".datatable .int     { background: #5D9E5D; }\n",
       ".datatable .float   { background: #4040CC; }\n",
       ".datatable .str     { background: #CC4040; }\n",
       ".datatable .row_index {  background: var(--jp-border-color3);  border-right: 1px solid var(--jp-border-color0);  color: var(--jp-ui-font-color3);  font-size: 9px;}\n",
       ".datatable .frame tr.coltypes .row_index {  background: var(--jp-border-color0);}\n",
       ".datatable th:nth-child(2) { padding-left: 12px; }\n",
       ".datatable .hellipsis {  color: var(--jp-cell-editor-border-color);}\n",
       ".datatable .vellipsis {  background: var(--jp-layout-color0);  color: var(--jp-cell-editor-border-color);}\n",
       ".datatable .na {  color: var(--jp-cell-editor-border-color);  font-size: 80%;}\n",
       ".datatable .footer { font-size: 9px; }\n",
       ".datatable .frame_dimensions {  background: var(--jp-border-color3);  border-top: 1px solid var(--jp-border-color0);  color: var(--jp-ui-font-color3);  display: inline-block;  opacity: 0.6;  padding: 1px 10px 1px 5px;}\n",
       "</style>\n"
      ],
      "text/plain": [
       "<IPython.core.display.HTML object>"
      ]
     },
     "metadata": {},
     "output_type": "display_data"
    },
    {
     "name": "stdout",
     "output_type": "stream",
     "text": [
      "[[781 220]\n",
      " [101 421]]\n",
      "              precision    recall  f1-score   support\n",
      "\n",
      "           0       0.89      0.78      0.83      1001\n",
      "           1       0.66      0.81      0.72       522\n",
      "\n",
      "    accuracy                           0.79      1523\n",
      "   macro avg       0.77      0.79      0.78      1523\n",
      "weighted avg       0.81      0.79      0.79      1523\n",
      "\n",
      "0.7892317793827971\n"
     ]
    }
   ],
   "source": [
    "from lightgbm import LGBMClassifier\n",
    "\n",
    "lgb_model = LGBMClassifier()\n",
    "lgb_model.fit(X_train,y_train)\n",
    "lgb_pred = lgb_model.predict(X_test)\n",
    "print(confusion_matrix(lgb_pred,y_test))\n",
    "print(classification_report(lgb_pred,y_test))\n",
    "print(accuracy_score(lgb_pred,y_test))"
   ]
  },
  {
   "cell_type": "code",
   "execution_count": 18,
   "id": "weird-arbitration",
   "metadata": {
    "execution": {
     "iopub.execute_input": "2021-06-17T09:10:42.917635Z",
     "iopub.status.busy": "2021-06-17T09:10:42.916653Z",
     "iopub.status.idle": "2021-06-17T09:10:42.920467Z",
     "shell.execute_reply": "2021-06-17T09:10:42.920960Z"
    },
    "papermill": {
     "duration": 0.037205,
     "end_time": "2021-06-17T09:10:42.921125",
     "exception": false,
     "start_time": "2021-06-17T09:10:42.883920",
     "status": "completed"
    },
    "tags": []
   },
   "outputs": [],
   "source": [
    "# lgb_model = LGBMClassifier()\n",
    "# parameters = {\n",
    "#     'bagging_fraction': (0.5, 0.8),\n",
    "#         'bagging_frequency': (5, 8),\n",
    "#         'feature_fraction': (0.5, 0.8),\n",
    "#         'max_depth': (10, 13),\n",
    "#         'min_data_in_leaf': (90, 120),\n",
    "#         'num_leaves': (1200, 1550)\n",
    "# }\n",
    "\n",
    "# grid = GridSearchCV(lgb_model,parameters,scoring='f1',cv=5)\n",
    "# result = grid.fit(X_train,y_train)\n",
    "# print(\"best_score:\",result.best_score_)\n",
    "# print(\"best_params:\",result.best_params_)"
   ]
  },
  {
   "cell_type": "markdown",
   "id": "entertaining-effect",
   "metadata": {
    "papermill": {
     "duration": 0.029836,
     "end_time": "2021-06-17T09:10:42.980081",
     "exception": false,
     "start_time": "2021-06-17T09:10:42.950245",
     "status": "completed"
    },
    "tags": []
   },
   "source": [
    "Naive Bayes"
   ]
  },
  {
   "cell_type": "code",
   "execution_count": 19,
   "id": "portable-endorsement",
   "metadata": {
    "execution": {
     "iopub.execute_input": "2021-06-17T09:10:43.044131Z",
     "iopub.status.busy": "2021-06-17T09:10:43.043096Z",
     "iopub.status.idle": "2021-06-17T09:10:43.823485Z",
     "shell.execute_reply": "2021-06-17T09:10:43.824033Z",
     "shell.execute_reply.started": "2021-06-17T08:53:10.346164Z"
    },
    "papermill": {
     "duration": 0.81359,
     "end_time": "2021-06-17T09:10:43.824202",
     "exception": false,
     "start_time": "2021-06-17T09:10:43.010612",
     "status": "completed"
    },
    "tags": []
   },
   "outputs": [
    {
     "name": "stdout",
     "output_type": "stream",
     "text": [
      "[[420 130]\n",
      " [462 511]]\n",
      "              precision    recall  f1-score   support\n",
      "\n",
      "           0       0.48      0.76      0.59       550\n",
      "           1       0.80      0.53      0.63       973\n",
      "\n",
      "    accuracy                           0.61      1523\n",
      "   macro avg       0.64      0.64      0.61      1523\n",
      "weighted avg       0.68      0.61      0.62      1523\n",
      "\n",
      "0.6112934996717005\n"
     ]
    }
   ],
   "source": [
    "from sklearn.naive_bayes import GaussianNB\n",
    "\n",
    "gnb_model = GaussianNB()\n",
    "gnb_model.fit(X_train,y_train)\n",
    "gnb_pred = gnb_model.predict(X_test)\n",
    "print(confusion_matrix(gnb_pred,y_test))\n",
    "print(classification_report(gnb_pred,y_test))\n",
    "print(accuracy_score(gnb_pred,y_test))"
   ]
  },
  {
   "cell_type": "code",
   "execution_count": 20,
   "id": "general-racing",
   "metadata": {
    "execution": {
     "iopub.execute_input": "2021-06-17T09:10:43.890616Z",
     "iopub.status.busy": "2021-06-17T09:10:43.889903Z",
     "iopub.status.idle": "2021-06-17T09:10:44.487422Z",
     "shell.execute_reply": "2021-06-17T09:10:44.488143Z",
     "shell.execute_reply.started": "2021-06-17T08:53:11.105782Z"
    },
    "papermill": {
     "duration": 0.633825,
     "end_time": "2021-06-17T09:10:44.488365",
     "exception": false,
     "start_time": "2021-06-17T09:10:43.854540",
     "status": "completed"
    },
    "tags": []
   },
   "outputs": [
    {
     "name": "stdout",
     "output_type": "stream",
     "text": [
      "[[795 206]\n",
      " [ 87 435]]\n",
      "              precision    recall  f1-score   support\n",
      "\n",
      "           0       0.90      0.79      0.84      1001\n",
      "           1       0.68      0.83      0.75       522\n",
      "\n",
      "    accuracy                           0.81      1523\n",
      "   macro avg       0.79      0.81      0.80      1523\n",
      "weighted avg       0.83      0.81      0.81      1523\n",
      "\n",
      "0.8076165462902167\n"
     ]
    }
   ],
   "source": [
    "from sklearn.naive_bayes import BernoulliNB\n",
    "\n",
    "bnb_model = BernoulliNB()\n",
    "bnb_model.fit(X_train,y_train)\n",
    "bnb_pred = bnb_model.predict(X_test)\n",
    "print(confusion_matrix(bnb_pred,y_test))\n",
    "print(classification_report(bnb_pred,y_test))\n",
    "print(accuracy_score(bnb_pred,y_test))"
   ]
  },
  {
   "cell_type": "code",
   "execution_count": 21,
   "id": "armed-basin",
   "metadata": {
    "execution": {
     "iopub.execute_input": "2021-06-17T09:10:44.601034Z",
     "iopub.status.busy": "2021-06-17T09:10:44.600002Z",
     "iopub.status.idle": "2021-06-17T09:10:44.932521Z",
     "shell.execute_reply": "2021-06-17T09:10:44.933488Z",
     "shell.execute_reply.started": "2021-06-17T08:53:11.681591Z"
    },
    "papermill": {
     "duration": 0.38119,
     "end_time": "2021-06-17T09:10:44.933811",
     "exception": false,
     "start_time": "2021-06-17T09:10:44.552621",
     "status": "completed"
    },
    "tags": []
   },
   "outputs": [
    {
     "name": "stdout",
     "output_type": "stream",
     "text": [
      "[[772 198]\n",
      " [110 443]]\n",
      "              precision    recall  f1-score   support\n",
      "\n",
      "           0       0.88      0.80      0.83       970\n",
      "           1       0.69      0.80      0.74       553\n",
      "\n",
      "    accuracy                           0.80      1523\n",
      "   macro avg       0.78      0.80      0.79      1523\n",
      "weighted avg       0.81      0.80      0.80      1523\n",
      "\n",
      "0.7977675640183848\n"
     ]
    }
   ],
   "source": [
    "from sklearn.naive_bayes import MultinomialNB\n",
    "\n",
    "cnb_model = MultinomialNB()\n",
    "cnb_model.fit(X_train,y_train)\n",
    "cnb_pred = cnb_model.predict(X_test)\n",
    "print(confusion_matrix(cnb_pred,y_test))\n",
    "print(classification_report(cnb_pred,y_test))\n",
    "print(accuracy_score(cnb_pred,y_test))"
   ]
  },
  {
   "cell_type": "code",
   "execution_count": 22,
   "id": "stuffed-violation",
   "metadata": {
    "execution": {
     "iopub.execute_input": "2021-06-17T09:10:45.090298Z",
     "iopub.status.busy": "2021-06-17T09:10:45.074820Z",
     "iopub.status.idle": "2021-06-17T09:10:45.123668Z",
     "shell.execute_reply": "2021-06-17T09:10:45.123087Z",
     "shell.execute_reply.started": "2021-06-17T08:53:12.041673Z"
    },
    "papermill": {
     "duration": 0.133077,
     "end_time": "2021-06-17T09:10:45.123807",
     "exception": false,
     "start_time": "2021-06-17T09:10:44.990730",
     "status": "completed"
    },
    "tags": []
   },
   "outputs": [],
   "source": [
    "test_vectors = vectores.transform(test_data['text'])"
   ]
  },
  {
   "cell_type": "code",
   "execution_count": 23,
   "id": "necessary-holmes",
   "metadata": {
    "execution": {
     "iopub.execute_input": "2021-06-17T09:10:45.190704Z",
     "iopub.status.busy": "2021-06-17T09:10:45.189718Z",
     "iopub.status.idle": "2021-06-17T09:10:45.195805Z",
     "shell.execute_reply": "2021-06-17T09:10:45.195138Z",
     "shell.execute_reply.started": "2021-06-17T08:53:12.168239Z"
    },
    "papermill": {
     "duration": 0.041748,
     "end_time": "2021-06-17T09:10:45.195945",
     "exception": false,
     "start_time": "2021-06-17T09:10:45.154197",
     "status": "completed"
    },
    "tags": []
   },
   "outputs": [],
   "source": [
    "my_submission = pd.DataFrame({'id': test_data.id, 'target': bnb_model.predict(test_vectors)})"
   ]
  },
  {
   "cell_type": "code",
   "execution_count": 24,
   "id": "hybrid-orbit",
   "metadata": {
    "execution": {
     "iopub.execute_input": "2021-06-17T09:10:45.262759Z",
     "iopub.status.busy": "2021-06-17T09:10:45.261748Z",
     "iopub.status.idle": "2021-06-17T09:10:45.275393Z",
     "shell.execute_reply": "2021-06-17T09:10:45.274812Z",
     "shell.execute_reply.started": "2021-06-17T08:53:12.178826Z"
    },
    "papermill": {
     "duration": 0.048833,
     "end_time": "2021-06-17T09:10:45.275588",
     "exception": false,
     "start_time": "2021-06-17T09:10:45.226755",
     "status": "completed"
    },
    "tags": []
   },
   "outputs": [],
   "source": [
    "my_submission.to_csv('submission.csv', index=False)"
   ]
  },
  {
   "cell_type": "code",
   "execution_count": 25,
   "id": "revolutionary-stuart",
   "metadata": {
    "execution": {
     "iopub.execute_input": "2021-06-17T09:10:45.343924Z",
     "iopub.status.busy": "2021-06-17T09:10:45.342948Z",
     "iopub.status.idle": "2021-06-17T09:10:45.346455Z",
     "shell.execute_reply": "2021-06-17T09:10:45.345815Z",
     "shell.execute_reply.started": "2021-06-17T08:33:41.552075Z"
    },
    "papermill": {
     "duration": 0.038872,
     "end_time": "2021-06-17T09:10:45.346642",
     "exception": false,
     "start_time": "2021-06-17T09:10:45.307770",
     "status": "completed"
    },
    "tags": []
   },
   "outputs": [],
   "source": [
    "# sample_submission = pd.read_csv(\"/kaggle/input/nlp-getting-started/sample_submission.csv\")\n",
    "# sample_submission[\"target\"] = bnb_model.predict(test_vectors)"
   ]
  },
  {
   "cell_type": "code",
   "execution_count": 26,
   "id": "automatic-selection",
   "metadata": {
    "execution": {
     "iopub.execute_input": "2021-06-17T09:10:45.412893Z",
     "iopub.status.busy": "2021-06-17T09:10:45.411875Z",
     "iopub.status.idle": "2021-06-17T09:10:45.414909Z",
     "shell.execute_reply": "2021-06-17T09:10:45.414277Z",
     "shell.execute_reply.started": "2021-06-17T08:34:03.441108Z"
    },
    "papermill": {
     "duration": 0.037753,
     "end_time": "2021-06-17T09:10:45.415065",
     "exception": false,
     "start_time": "2021-06-17T09:10:45.377312",
     "status": "completed"
    },
    "tags": []
   },
   "outputs": [],
   "source": [
    "# sample_submission.head()"
   ]
  },
  {
   "cell_type": "code",
   "execution_count": 27,
   "id": "prepared-catch",
   "metadata": {
    "execution": {
     "iopub.execute_input": "2021-06-17T09:10:45.482755Z",
     "iopub.status.busy": "2021-06-17T09:10:45.482011Z",
     "iopub.status.idle": "2021-06-17T09:10:45.485356Z",
     "shell.execute_reply": "2021-06-17T09:10:45.484834Z",
     "shell.execute_reply.started": "2021-06-17T08:34:17.891316Z"
    },
    "papermill": {
     "duration": 0.038943,
     "end_time": "2021-06-17T09:10:45.485491",
     "exception": false,
     "start_time": "2021-06-17T09:10:45.446548",
     "status": "completed"
    },
    "tags": []
   },
   "outputs": [],
   "source": [
    "# sample_submission.to_csv(\"submission.csv\", index=False)"
   ]
  },
  {
   "cell_type": "code",
   "execution_count": null,
   "id": "polish-distinction",
   "metadata": {
    "papermill": {
     "duration": 0.029733,
     "end_time": "2021-06-17T09:10:45.546091",
     "exception": false,
     "start_time": "2021-06-17T09:10:45.516358",
     "status": "completed"
    },
    "tags": []
   },
   "outputs": [],
   "source": []
  }
 ],
 "metadata": {
  "kernelspec": {
   "display_name": "Python 3",
   "language": "python",
   "name": "python3"
  },
  "language_info": {
   "codemirror_mode": {
    "name": "ipython",
    "version": 3
   },
   "file_extension": ".py",
   "mimetype": "text/x-python",
   "name": "python",
   "nbconvert_exporter": "python",
   "pygments_lexer": "ipython3",
   "version": "3.7.10"
  },
  "papermill": {
   "default_parameters": {},
   "duration": 297.031574,
   "end_time": "2021-06-17T09:10:46.985864",
   "environment_variables": {},
   "exception": null,
   "input_path": "__notebook__.ipynb",
   "output_path": "__notebook__.ipynb",
   "parameters": {},
   "start_time": "2021-06-17T09:05:49.954290",
   "version": "2.3.3"
  }
 },
 "nbformat": 4,
 "nbformat_minor": 5
}
